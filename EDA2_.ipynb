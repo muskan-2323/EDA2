{
  "nbformat": 4,
  "nbformat_minor": 0,
  "metadata": {
    "colab": {
      "provenance": []
    },
    "kernelspec": {
      "name": "python3",
      "display_name": "Python 3"
    },
    "language_info": {
      "name": "python"
    }
  },
  "cells": [
    {
      "cell_type": "code",
      "source": [
        "import pandas as pd\n",
        "df = pd.read_csv('adult_with_headers.csv')"
      ],
      "metadata": {
        "id": "O1pEjQjIadng"
      },
      "execution_count": 1,
      "outputs": []
    },
    {
      "cell_type": "code",
      "source": [
        "df.describe()"
      ],
      "metadata": {
        "colab": {
          "base_uri": "https://localhost:8080/",
          "height": 300
        },
        "id": "kh2rBUOwbTYr",
        "outputId": "628b98c0-921e-46de-ea25-23364d51f65f"
      },
      "execution_count": 2,
      "outputs": [
        {
          "output_type": "execute_result",
          "data": {
            "text/plain": [
              "                age        fnlwgt  education_num  capital_gain  capital_loss  \\\n",
              "count  17923.000000  1.792300e+04   17923.000000  17922.000000  17922.000000   \n",
              "mean      38.550243  1.901854e+05      10.090219   1050.742272     87.770282   \n",
              "std       13.623031  1.054434e+05       2.559689   7281.141976    402.532485   \n",
              "min       17.000000  1.228500e+04       1.000000      0.000000      0.000000   \n",
              "25%       28.000000  1.186945e+05       9.000000      0.000000      0.000000   \n",
              "50%       37.000000  1.789150e+05      10.000000      0.000000      0.000000   \n",
              "75%       47.500000  2.378490e+05      12.000000      0.000000      0.000000   \n",
              "max       90.000000  1.484705e+06      16.000000  99999.000000   4356.000000   \n",
              "\n",
              "       hours_per_week  \n",
              "count    17922.000000  \n",
              "mean        40.414407  \n",
              "std         12.274417  \n",
              "min          1.000000  \n",
              "25%         40.000000  \n",
              "50%         40.000000  \n",
              "75%         45.000000  \n",
              "max         99.000000  "
            ],
            "text/html": [
              "\n",
              "  <div id=\"df-b2bcc8ed-924e-4446-8217-a4d16bf7c62e\" class=\"colab-df-container\">\n",
              "    <div>\n",
              "<style scoped>\n",
              "    .dataframe tbody tr th:only-of-type {\n",
              "        vertical-align: middle;\n",
              "    }\n",
              "\n",
              "    .dataframe tbody tr th {\n",
              "        vertical-align: top;\n",
              "    }\n",
              "\n",
              "    .dataframe thead th {\n",
              "        text-align: right;\n",
              "    }\n",
              "</style>\n",
              "<table border=\"1\" class=\"dataframe\">\n",
              "  <thead>\n",
              "    <tr style=\"text-align: right;\">\n",
              "      <th></th>\n",
              "      <th>age</th>\n",
              "      <th>fnlwgt</th>\n",
              "      <th>education_num</th>\n",
              "      <th>capital_gain</th>\n",
              "      <th>capital_loss</th>\n",
              "      <th>hours_per_week</th>\n",
              "    </tr>\n",
              "  </thead>\n",
              "  <tbody>\n",
              "    <tr>\n",
              "      <th>count</th>\n",
              "      <td>17923.000000</td>\n",
              "      <td>1.792300e+04</td>\n",
              "      <td>17923.000000</td>\n",
              "      <td>17922.000000</td>\n",
              "      <td>17922.000000</td>\n",
              "      <td>17922.000000</td>\n",
              "    </tr>\n",
              "    <tr>\n",
              "      <th>mean</th>\n",
              "      <td>38.550243</td>\n",
              "      <td>1.901854e+05</td>\n",
              "      <td>10.090219</td>\n",
              "      <td>1050.742272</td>\n",
              "      <td>87.770282</td>\n",
              "      <td>40.414407</td>\n",
              "    </tr>\n",
              "    <tr>\n",
              "      <th>std</th>\n",
              "      <td>13.623031</td>\n",
              "      <td>1.054434e+05</td>\n",
              "      <td>2.559689</td>\n",
              "      <td>7281.141976</td>\n",
              "      <td>402.532485</td>\n",
              "      <td>12.274417</td>\n",
              "    </tr>\n",
              "    <tr>\n",
              "      <th>min</th>\n",
              "      <td>17.000000</td>\n",
              "      <td>1.228500e+04</td>\n",
              "      <td>1.000000</td>\n",
              "      <td>0.000000</td>\n",
              "      <td>0.000000</td>\n",
              "      <td>1.000000</td>\n",
              "    </tr>\n",
              "    <tr>\n",
              "      <th>25%</th>\n",
              "      <td>28.000000</td>\n",
              "      <td>1.186945e+05</td>\n",
              "      <td>9.000000</td>\n",
              "      <td>0.000000</td>\n",
              "      <td>0.000000</td>\n",
              "      <td>40.000000</td>\n",
              "    </tr>\n",
              "    <tr>\n",
              "      <th>50%</th>\n",
              "      <td>37.000000</td>\n",
              "      <td>1.789150e+05</td>\n",
              "      <td>10.000000</td>\n",
              "      <td>0.000000</td>\n",
              "      <td>0.000000</td>\n",
              "      <td>40.000000</td>\n",
              "    </tr>\n",
              "    <tr>\n",
              "      <th>75%</th>\n",
              "      <td>47.500000</td>\n",
              "      <td>2.378490e+05</td>\n",
              "      <td>12.000000</td>\n",
              "      <td>0.000000</td>\n",
              "      <td>0.000000</td>\n",
              "      <td>45.000000</td>\n",
              "    </tr>\n",
              "    <tr>\n",
              "      <th>max</th>\n",
              "      <td>90.000000</td>\n",
              "      <td>1.484705e+06</td>\n",
              "      <td>16.000000</td>\n",
              "      <td>99999.000000</td>\n",
              "      <td>4356.000000</td>\n",
              "      <td>99.000000</td>\n",
              "    </tr>\n",
              "  </tbody>\n",
              "</table>\n",
              "</div>\n",
              "    <div class=\"colab-df-buttons\">\n",
              "\n",
              "  <div class=\"colab-df-container\">\n",
              "    <button class=\"colab-df-convert\" onclick=\"convertToInteractive('df-b2bcc8ed-924e-4446-8217-a4d16bf7c62e')\"\n",
              "            title=\"Convert this dataframe to an interactive table.\"\n",
              "            style=\"display:none;\">\n",
              "\n",
              "  <svg xmlns=\"http://www.w3.org/2000/svg\" height=\"24px\" viewBox=\"0 -960 960 960\">\n",
              "    <path d=\"M120-120v-720h720v720H120Zm60-500h600v-160H180v160Zm220 220h160v-160H400v160Zm0 220h160v-160H400v160ZM180-400h160v-160H180v160Zm440 0h160v-160H620v160ZM180-180h160v-160H180v160Zm440 0h160v-160H620v160Z\"/>\n",
              "  </svg>\n",
              "    </button>\n",
              "\n",
              "  <style>\n",
              "    .colab-df-container {\n",
              "      display:flex;\n",
              "      gap: 12px;\n",
              "    }\n",
              "\n",
              "    .colab-df-convert {\n",
              "      background-color: #E8F0FE;\n",
              "      border: none;\n",
              "      border-radius: 50%;\n",
              "      cursor: pointer;\n",
              "      display: none;\n",
              "      fill: #1967D2;\n",
              "      height: 32px;\n",
              "      padding: 0 0 0 0;\n",
              "      width: 32px;\n",
              "    }\n",
              "\n",
              "    .colab-df-convert:hover {\n",
              "      background-color: #E2EBFA;\n",
              "      box-shadow: 0px 1px 2px rgba(60, 64, 67, 0.3), 0px 1px 3px 1px rgba(60, 64, 67, 0.15);\n",
              "      fill: #174EA6;\n",
              "    }\n",
              "\n",
              "    .colab-df-buttons div {\n",
              "      margin-bottom: 4px;\n",
              "    }\n",
              "\n",
              "    [theme=dark] .colab-df-convert {\n",
              "      background-color: #3B4455;\n",
              "      fill: #D2E3FC;\n",
              "    }\n",
              "\n",
              "    [theme=dark] .colab-df-convert:hover {\n",
              "      background-color: #434B5C;\n",
              "      box-shadow: 0px 1px 3px 1px rgba(0, 0, 0, 0.15);\n",
              "      filter: drop-shadow(0px 1px 2px rgba(0, 0, 0, 0.3));\n",
              "      fill: #FFFFFF;\n",
              "    }\n",
              "  </style>\n",
              "\n",
              "    <script>\n",
              "      const buttonEl =\n",
              "        document.querySelector('#df-b2bcc8ed-924e-4446-8217-a4d16bf7c62e button.colab-df-convert');\n",
              "      buttonEl.style.display =\n",
              "        google.colab.kernel.accessAllowed ? 'block' : 'none';\n",
              "\n",
              "      async function convertToInteractive(key) {\n",
              "        const element = document.querySelector('#df-b2bcc8ed-924e-4446-8217-a4d16bf7c62e');\n",
              "        const dataTable =\n",
              "          await google.colab.kernel.invokeFunction('convertToInteractive',\n",
              "                                                    [key], {});\n",
              "        if (!dataTable) return;\n",
              "\n",
              "        const docLinkHtml = 'Like what you see? Visit the ' +\n",
              "          '<a target=\"_blank\" href=https://colab.research.google.com/notebooks/data_table.ipynb>data table notebook</a>'\n",
              "          + ' to learn more about interactive tables.';\n",
              "        element.innerHTML = '';\n",
              "        dataTable['output_type'] = 'display_data';\n",
              "        await google.colab.output.renderOutput(dataTable, element);\n",
              "        const docLink = document.createElement('div');\n",
              "        docLink.innerHTML = docLinkHtml;\n",
              "        element.appendChild(docLink);\n",
              "      }\n",
              "    </script>\n",
              "  </div>\n",
              "\n",
              "\n",
              "<div id=\"df-43ed17ca-1aef-44b5-b380-dd5984970efc\">\n",
              "  <button class=\"colab-df-quickchart\" onclick=\"quickchart('df-43ed17ca-1aef-44b5-b380-dd5984970efc')\"\n",
              "            title=\"Suggest charts\"\n",
              "            style=\"display:none;\">\n",
              "\n",
              "<svg xmlns=\"http://www.w3.org/2000/svg\" height=\"24px\"viewBox=\"0 0 24 24\"\n",
              "     width=\"24px\">\n",
              "    <g>\n",
              "        <path d=\"M19 3H5c-1.1 0-2 .9-2 2v14c0 1.1.9 2 2 2h14c1.1 0 2-.9 2-2V5c0-1.1-.9-2-2-2zM9 17H7v-7h2v7zm4 0h-2V7h2v10zm4 0h-2v-4h2v4z\"/>\n",
              "    </g>\n",
              "</svg>\n",
              "  </button>\n",
              "\n",
              "<style>\n",
              "  .colab-df-quickchart {\n",
              "      --bg-color: #E8F0FE;\n",
              "      --fill-color: #1967D2;\n",
              "      --hover-bg-color: #E2EBFA;\n",
              "      --hover-fill-color: #174EA6;\n",
              "      --disabled-fill-color: #AAA;\n",
              "      --disabled-bg-color: #DDD;\n",
              "  }\n",
              "\n",
              "  [theme=dark] .colab-df-quickchart {\n",
              "      --bg-color: #3B4455;\n",
              "      --fill-color: #D2E3FC;\n",
              "      --hover-bg-color: #434B5C;\n",
              "      --hover-fill-color: #FFFFFF;\n",
              "      --disabled-bg-color: #3B4455;\n",
              "      --disabled-fill-color: #666;\n",
              "  }\n",
              "\n",
              "  .colab-df-quickchart {\n",
              "    background-color: var(--bg-color);\n",
              "    border: none;\n",
              "    border-radius: 50%;\n",
              "    cursor: pointer;\n",
              "    display: none;\n",
              "    fill: var(--fill-color);\n",
              "    height: 32px;\n",
              "    padding: 0;\n",
              "    width: 32px;\n",
              "  }\n",
              "\n",
              "  .colab-df-quickchart:hover {\n",
              "    background-color: var(--hover-bg-color);\n",
              "    box-shadow: 0 1px 2px rgba(60, 64, 67, 0.3), 0 1px 3px 1px rgba(60, 64, 67, 0.15);\n",
              "    fill: var(--button-hover-fill-color);\n",
              "  }\n",
              "\n",
              "  .colab-df-quickchart-complete:disabled,\n",
              "  .colab-df-quickchart-complete:disabled:hover {\n",
              "    background-color: var(--disabled-bg-color);\n",
              "    fill: var(--disabled-fill-color);\n",
              "    box-shadow: none;\n",
              "  }\n",
              "\n",
              "  .colab-df-spinner {\n",
              "    border: 2px solid var(--fill-color);\n",
              "    border-color: transparent;\n",
              "    border-bottom-color: var(--fill-color);\n",
              "    animation:\n",
              "      spin 1s steps(1) infinite;\n",
              "  }\n",
              "\n",
              "  @keyframes spin {\n",
              "    0% {\n",
              "      border-color: transparent;\n",
              "      border-bottom-color: var(--fill-color);\n",
              "      border-left-color: var(--fill-color);\n",
              "    }\n",
              "    20% {\n",
              "      border-color: transparent;\n",
              "      border-left-color: var(--fill-color);\n",
              "      border-top-color: var(--fill-color);\n",
              "    }\n",
              "    30% {\n",
              "      border-color: transparent;\n",
              "      border-left-color: var(--fill-color);\n",
              "      border-top-color: var(--fill-color);\n",
              "      border-right-color: var(--fill-color);\n",
              "    }\n",
              "    40% {\n",
              "      border-color: transparent;\n",
              "      border-right-color: var(--fill-color);\n",
              "      border-top-color: var(--fill-color);\n",
              "    }\n",
              "    60% {\n",
              "      border-color: transparent;\n",
              "      border-right-color: var(--fill-color);\n",
              "    }\n",
              "    80% {\n",
              "      border-color: transparent;\n",
              "      border-right-color: var(--fill-color);\n",
              "      border-bottom-color: var(--fill-color);\n",
              "    }\n",
              "    90% {\n",
              "      border-color: transparent;\n",
              "      border-bottom-color: var(--fill-color);\n",
              "    }\n",
              "  }\n",
              "</style>\n",
              "\n",
              "  <script>\n",
              "    async function quickchart(key) {\n",
              "      const quickchartButtonEl =\n",
              "        document.querySelector('#' + key + ' button');\n",
              "      quickchartButtonEl.disabled = true;  // To prevent multiple clicks.\n",
              "      quickchartButtonEl.classList.add('colab-df-spinner');\n",
              "      try {\n",
              "        const charts = await google.colab.kernel.invokeFunction(\n",
              "            'suggestCharts', [key], {});\n",
              "      } catch (error) {\n",
              "        console.error('Error during call to suggestCharts:', error);\n",
              "      }\n",
              "      quickchartButtonEl.classList.remove('colab-df-spinner');\n",
              "      quickchartButtonEl.classList.add('colab-df-quickchart-complete');\n",
              "    }\n",
              "    (() => {\n",
              "      let quickchartButtonEl =\n",
              "        document.querySelector('#df-43ed17ca-1aef-44b5-b380-dd5984970efc button');\n",
              "      quickchartButtonEl.style.display =\n",
              "        google.colab.kernel.accessAllowed ? 'block' : 'none';\n",
              "    })();\n",
              "  </script>\n",
              "</div>\n",
              "\n",
              "    </div>\n",
              "  </div>\n"
            ],
            "application/vnd.google.colaboratory.intrinsic+json": {
              "type": "dataframe",
              "summary": "{\n  \"name\": \"df\",\n  \"rows\": 8,\n  \"fields\": [\n    {\n      \"column\": \"age\",\n      \"properties\": {\n        \"dtype\": \"number\",\n        \"std\": 6323.060199643978,\n        \"min\": 13.623030518950895,\n        \"max\": 17923.0,\n        \"num_unique_values\": 8,\n        \"samples\": [\n          38.55024270490431,\n          37.0,\n          17923.0\n        ],\n        \"semantic_type\": \"\",\n        \"description\": \"\"\n      }\n    },\n    {\n      \"column\": \"fnlwgt\",\n      \"properties\": {\n        \"dtype\": \"number\",\n        \"std\": 487971.94286255084,\n        \"min\": 12285.0,\n        \"max\": 1484705.0,\n        \"num_unique_values\": 8,\n        \"samples\": [\n          190185.41639234504,\n          178915.0,\n          17923.0\n        ],\n        \"semantic_type\": \"\",\n        \"description\": \"\"\n      }\n    },\n    {\n      \"column\": \"education_num\",\n      \"properties\": {\n        \"dtype\": \"number\",\n        \"std\": 6333.67599604408,\n        \"min\": 1.0,\n        \"max\": 17923.0,\n        \"num_unique_values\": 8,\n        \"samples\": [\n          10.090219271327344,\n          10.0,\n          17923.0\n        ],\n        \"semantic_type\": \"\",\n        \"description\": \"\"\n      }\n    },\n    {\n      \"column\": \"capital_gain\",\n      \"properties\": {\n        \"dtype\": \"number\",\n        \"std\": 34605.2087845775,\n        \"min\": 0.0,\n        \"max\": 99999.0,\n        \"num_unique_values\": 5,\n        \"samples\": [\n          1050.7422720678496,\n          99999.0,\n          7281.14197647518\n        ],\n        \"semantic_type\": \"\",\n        \"description\": \"\"\n      }\n    },\n    {\n      \"column\": \"capital_loss\",\n      \"properties\": {\n        \"dtype\": \"number\",\n        \"std\": 6274.017904494036,\n        \"min\": 0.0,\n        \"max\": 17922.0,\n        \"num_unique_values\": 5,\n        \"samples\": [\n          87.77028233456087,\n          4356.0,\n          402.53248488385844\n        ],\n        \"semantic_type\": \"\",\n        \"description\": \"\"\n      }\n    },\n    {\n      \"column\": \"hours_per_week\",\n      \"properties\": {\n        \"dtype\": \"number\",\n        \"std\": 6322.423934206187,\n        \"min\": 1.0,\n        \"max\": 17922.0,\n        \"num_unique_values\": 7,\n        \"samples\": [\n          17922.0,\n          40.41440687423279,\n          45.0\n        ],\n        \"semantic_type\": \"\",\n        \"description\": \"\"\n      }\n    }\n  ]\n}"
            }
          },
          "metadata": {},
          "execution_count": 2
        }
      ]
    },
    {
      "cell_type": "code",
      "source": [
        "df.isnull().sum()"
      ],
      "metadata": {
        "colab": {
          "base_uri": "https://localhost:8080/"
        },
        "id": "PRxAidTdbdrh",
        "outputId": "633a42f0-9dce-487b-f083-9c1b76580808"
      },
      "execution_count": 3,
      "outputs": [
        {
          "output_type": "execute_result",
          "data": {
            "text/plain": [
              "age               0\n",
              "workclass         0\n",
              "fnlwgt            0\n",
              "education         0\n",
              "education_num     0\n",
              "marital_status    0\n",
              "occupation        0\n",
              "relationship      0\n",
              "race              1\n",
              "sex               1\n",
              "capital_gain      1\n",
              "capital_loss      1\n",
              "hours_per_week    1\n",
              "native_country    1\n",
              "income            1\n",
              "dtype: int64"
            ]
          },
          "metadata": {},
          "execution_count": 3
        }
      ]
    },
    {
      "cell_type": "code",
      "source": [
        "df.dtypes"
      ],
      "metadata": {
        "colab": {
          "base_uri": "https://localhost:8080/"
        },
        "id": "9yKJg15LbjxY",
        "outputId": "c5a3b163-50ee-45ca-8063-33e7f84d5e26"
      },
      "execution_count": 4,
      "outputs": [
        {
          "output_type": "execute_result",
          "data": {
            "text/plain": [
              "age                 int64\n",
              "workclass          object\n",
              "fnlwgt              int64\n",
              "education          object\n",
              "education_num       int64\n",
              "marital_status     object\n",
              "occupation         object\n",
              "relationship       object\n",
              "race               object\n",
              "sex                object\n",
              "capital_gain      float64\n",
              "capital_loss      float64\n",
              "hours_per_week    float64\n",
              "native_country     object\n",
              "income             object\n",
              "dtype: object"
            ]
          },
          "metadata": {},
          "execution_count": 4
        }
      ]
    },
    {
      "cell_type": "code",
      "source": [
        "df = df.dropna()"
      ],
      "metadata": {
        "id": "N5PhxkddbrV_"
      },
      "execution_count": 5,
      "outputs": []
    },
    {
      "cell_type": "code",
      "source": [
        "numerical_cols = df.select_dtypes(include=['float64', 'int64']).columns\n",
        "categorical_cols = df.select_dtypes(include=['object']).columns\n",
        "\n",
        "# Create separate dataframes\n",
        "df_numerical = df[numerical_cols]\n",
        "df_categorical = df[categorical_cols]"
      ],
      "metadata": {
        "id": "xAO6XgenhljE"
      },
      "execution_count": 6,
      "outputs": []
    },
    {
      "cell_type": "code",
      "source": [
        "from sklearn.preprocessing import StandardScaler\n",
        "\n",
        "# Initialize the scaler\n",
        "scaler = StandardScaler()\n",
        "\n",
        "# Fit and transform the numerical data\n",
        "df_numerical_scaled = scaler.fit_transform(df_numerical)\n",
        "\n",
        "# Convert the scaled data back to a DataFrame\n",
        "df_numerical_scaled = pd.DataFrame(df_numerical_scaled, columns=numerical_cols)"
      ],
      "metadata": {
        "id": "yRa-xJC2cGT0"
      },
      "execution_count": 7,
      "outputs": []
    },
    {
      "cell_type": "code",
      "source": [
        "df_processed = pd.concat([df_numerical_scaled, df_categorical.reset_index(drop=True)], axis=1)\n",
        "\n",
        "# Display the first few rows of the processed dataset\n",
        "print(df_processed.head())"
      ],
      "metadata": {
        "colab": {
          "base_uri": "https://localhost:8080/"
        },
        "id": "fLHIrFVYh1I6",
        "outputId": "c8f3ab77-df6b-4caf-bdd0-9a87669461a1"
      },
      "execution_count": 8,
      "outputs": [
        {
          "output_type": "stream",
          "name": "stdout",
          "text": [
            "        age    fnlwgt  education_num  capital_gain  capital_loss  \\\n",
            "0  0.032932 -1.068581       1.136750      0.154274     -0.218051   \n",
            "1  0.840440 -1.013622       1.136750     -0.144314     -0.218051   \n",
            "2 -0.040477  0.241427      -0.426003     -0.144314     -0.218051   \n",
            "3  1.060669  0.422333      -1.207380     -0.144314     -0.218051   \n",
            "4 -0.774575  1.405697       1.136750     -0.144314     -0.218051   \n",
            "\n",
            "   hours_per_week          workclass   education       marital_status  \\\n",
            "0       -0.033763          State-gov   Bachelors        Never-married   \n",
            "1       -2.233521   Self-emp-not-inc   Bachelors   Married-civ-spouse   \n",
            "2       -0.033763            Private     HS-grad             Divorced   \n",
            "3       -0.033763            Private        11th   Married-civ-spouse   \n",
            "4       -0.033763            Private   Bachelors   Married-civ-spouse   \n",
            "\n",
            "           occupation    relationship    race      sex  native_country  income  \n",
            "0        Adm-clerical   Not-in-family   White     Male   United-States   <=50K  \n",
            "1     Exec-managerial         Husband   White     Male   United-States   <=50K  \n",
            "2   Handlers-cleaners   Not-in-family   White     Male   United-States   <=50K  \n",
            "3   Handlers-cleaners         Husband   Black     Male   United-States   <=50K  \n",
            "4      Prof-specialty            Wife   Black   Female            Cuba   <=50K  \n"
          ]
        }
      ]
    },
    {
      "cell_type": "markdown",
      "source": [
        "Standard Scaling:\n",
        "\n",
        "Suitable for algorithms that assume normality in the data, such as Linear Regression, Logistic Regression, and Linear Discriminant Analysis.\n",
        "Useful when features have different variances, as it normalizes the variance across features.\n",
        "Retains outliers, which can be crucial for certain models that need to capture these variations.\n",
        "\n",
        "Min-Max Scaling:\n",
        "\n",
        "Preferred for algorithms that do not assume any distribution, such as Neural Networks, K-Nearest Neighbors, and Principal Component Analysis.\n",
        "When features are on different scales, Min-Max Scaling brings all features within the same range, making the convergence faster in Gradient Descent-based algorithms.\n",
        "Effective when dealing with features that have outliers, as it compresses all values within a specific range."
      ],
      "metadata": {
        "id": "BN7Gj6MiiWlC"
      }
    },
    {
      "cell_type": "markdown",
      "source": [
        "By following these steps, we can ensure that our dataset is clean and well-prepared for further analysis or modeling. The choice of scaling technique depends on the nature of the data and the specific requirements of the machine learning algorithms being used."
      ],
      "metadata": {
        "id": "QeZGcj-jh-OC"
      }
    },
    {
      "cell_type": "code",
      "source": [
        "# Identify categorical columns with less than 5 unique categories\n",
        "categorical_cols_to_encode = [col for col in df_categorical.columns if df_categorical[col].nunique() < 5]\n",
        "\n",
        "# Apply One-Hot Encoding to these columns\n",
        "df_categorical_encoded = pd.get_dummies(df_categorical, columns=categorical_cols_to_encode, drop_first=True)\n",
        "\n",
        "# Columns that are not encoded\n",
        "categorical_cols_not_encoded = [col for col in df_categorical.columns if col not in categorical_cols_to_encode]\n",
        "\n",
        "# Combine with the columns that were not encoded\n",
        "df_categorical_final = pd.concat([df_categorical_encoded, df_categorical[categorical_cols_not_encoded]], axis=1)"
      ],
      "metadata": {
        "id": "9L-GbS8oiABM"
      },
      "execution_count": 9,
      "outputs": []
    },
    {
      "cell_type": "code",
      "source": [
        "# Concatenate numerical and categorical dataframes\n",
        "df_processed = pd.concat([df_numerical_scaled, df_categorical_final.reset_index(drop=True)], axis=1)\n",
        "\n",
        "# Display the first few rows of the processed dataset\n",
        "print(df_processed.head())"
      ],
      "metadata": {
        "colab": {
          "base_uri": "https://localhost:8080/"
        },
        "id": "L5MxaALMjoPD",
        "outputId": "856171f0-350a-4ecb-cc0b-d81a6eb63664"
      },
      "execution_count": 10,
      "outputs": [
        {
          "output_type": "stream",
          "name": "stdout",
          "text": [
            "        age    fnlwgt  education_num  capital_gain  capital_loss  \\\n",
            "0  0.032932 -1.068581       1.136750      0.154274     -0.218051   \n",
            "1  0.840440 -1.013622       1.136750     -0.144314     -0.218051   \n",
            "2 -0.040477  0.241427      -0.426003     -0.144314     -0.218051   \n",
            "3  1.060669  0.422333      -1.207380     -0.144314     -0.218051   \n",
            "4 -0.774575  1.405697       1.136750     -0.144314     -0.218051   \n",
            "\n",
            "   hours_per_week          workclass   education       marital_status  \\\n",
            "0       -0.033763          State-gov   Bachelors        Never-married   \n",
            "1       -2.233521   Self-emp-not-inc   Bachelors   Married-civ-spouse   \n",
            "2       -0.033763            Private     HS-grad             Divorced   \n",
            "3       -0.033763            Private        11th   Married-civ-spouse   \n",
            "4       -0.033763            Private   Bachelors   Married-civ-spouse   \n",
            "\n",
            "           occupation  ...  native_country sex_ Male income_ >50K  \\\n",
            "0        Adm-clerical  ...   United-States      True        False   \n",
            "1     Exec-managerial  ...   United-States      True        False   \n",
            "2   Handlers-cleaners  ...   United-States      True        False   \n",
            "3   Handlers-cleaners  ...   United-States      True        False   \n",
            "4      Prof-specialty  ...            Cuba     False        False   \n",
            "\n",
            "           workclass   education       marital_status          occupation  \\\n",
            "0          State-gov   Bachelors        Never-married        Adm-clerical   \n",
            "1   Self-emp-not-inc   Bachelors   Married-civ-spouse     Exec-managerial   \n",
            "2            Private     HS-grad             Divorced   Handlers-cleaners   \n",
            "3            Private        11th   Married-civ-spouse   Handlers-cleaners   \n",
            "4            Private   Bachelors   Married-civ-spouse      Prof-specialty   \n",
            "\n",
            "     relationship    race  native_country  \n",
            "0   Not-in-family   White   United-States  \n",
            "1         Husband   White   United-States  \n",
            "2   Not-in-family   White   United-States  \n",
            "3         Husband   Black   United-States  \n",
            "4            Wife   Black            Cuba  \n",
            "\n",
            "[5 rows x 22 columns]\n"
          ]
        }
      ]
    },
    {
      "cell_type": "code",
      "source": [
        "from sklearn.preprocessing import LabelEncoder\n",
        "\n",
        "# Initialize the LabelEncoder\n",
        "label_encoder = LabelEncoder()\n",
        "\n",
        "# Apply Label Encoding to categorical columns with more than 5 categories\n",
        "for col in df_categorical.columns:\n",
        "    if df_categorical[col].nunique() > 5:\n",
        "        df_categorical[col] = label_encoder.fit_transform(df_categorical[col])\n",
        "\n",
        "# Display the first few rows of the encoded categorical data\n",
        "print(df_categorical.head())"
      ],
      "metadata": {
        "colab": {
          "base_uri": "https://localhost:8080/"
        },
        "id": "4xCERP8IkN2h",
        "outputId": "cd907721-fe34-4a8f-96a2-396c52912f01"
      },
      "execution_count": 11,
      "outputs": [
        {
          "output_type": "stream",
          "name": "stdout",
          "text": [
            "   workclass  education  marital_status  occupation  relationship    race  \\\n",
            "0          7          9               4           1             1   White   \n",
            "1          6          9               2           4             0   White   \n",
            "2          4         11               0           6             1   White   \n",
            "3          4          1               2           6             0   Black   \n",
            "4          4          9               2          10             5   Black   \n",
            "\n",
            "       sex  native_country  income  \n",
            "0     Male              38   <=50K  \n",
            "1     Male              38   <=50K  \n",
            "2     Male              38   <=50K  \n",
            "3     Male              38   <=50K  \n",
            "4   Female               5   <=50K  \n"
          ]
        },
        {
          "output_type": "stream",
          "name": "stderr",
          "text": [
            "<ipython-input-11-16952690e70d>:9: SettingWithCopyWarning: \n",
            "A value is trying to be set on a copy of a slice from a DataFrame.\n",
            "Try using .loc[row_indexer,col_indexer] = value instead\n",
            "\n",
            "See the caveats in the documentation: https://pandas.pydata.org/pandas-docs/stable/user_guide/indexing.html#returning-a-view-versus-a-copy\n",
            "  df_categorical[col] = label_encoder.fit_transform(df_categorical[col])\n",
            "<ipython-input-11-16952690e70d>:9: SettingWithCopyWarning: \n",
            "A value is trying to be set on a copy of a slice from a DataFrame.\n",
            "Try using .loc[row_indexer,col_indexer] = value instead\n",
            "\n",
            "See the caveats in the documentation: https://pandas.pydata.org/pandas-docs/stable/user_guide/indexing.html#returning-a-view-versus-a-copy\n",
            "  df_categorical[col] = label_encoder.fit_transform(df_categorical[col])\n",
            "<ipython-input-11-16952690e70d>:9: SettingWithCopyWarning: \n",
            "A value is trying to be set on a copy of a slice from a DataFrame.\n",
            "Try using .loc[row_indexer,col_indexer] = value instead\n",
            "\n",
            "See the caveats in the documentation: https://pandas.pydata.org/pandas-docs/stable/user_guide/indexing.html#returning-a-view-versus-a-copy\n",
            "  df_categorical[col] = label_encoder.fit_transform(df_categorical[col])\n",
            "<ipython-input-11-16952690e70d>:9: SettingWithCopyWarning: \n",
            "A value is trying to be set on a copy of a slice from a DataFrame.\n",
            "Try using .loc[row_indexer,col_indexer] = value instead\n",
            "\n",
            "See the caveats in the documentation: https://pandas.pydata.org/pandas-docs/stable/user_guide/indexing.html#returning-a-view-versus-a-copy\n",
            "  df_categorical[col] = label_encoder.fit_transform(df_categorical[col])\n",
            "<ipython-input-11-16952690e70d>:9: SettingWithCopyWarning: \n",
            "A value is trying to be set on a copy of a slice from a DataFrame.\n",
            "Try using .loc[row_indexer,col_indexer] = value instead\n",
            "\n",
            "See the caveats in the documentation: https://pandas.pydata.org/pandas-docs/stable/user_guide/indexing.html#returning-a-view-versus-a-copy\n",
            "  df_categorical[col] = label_encoder.fit_transform(df_categorical[col])\n",
            "<ipython-input-11-16952690e70d>:9: SettingWithCopyWarning: \n",
            "A value is trying to be set on a copy of a slice from a DataFrame.\n",
            "Try using .loc[row_indexer,col_indexer] = value instead\n",
            "\n",
            "See the caveats in the documentation: https://pandas.pydata.org/pandas-docs/stable/user_guide/indexing.html#returning-a-view-versus-a-copy\n",
            "  df_categorical[col] = label_encoder.fit_transform(df_categorical[col])\n"
          ]
        }
      ]
    },
    {
      "cell_type": "markdown",
      "source": [
        "**Pros and Cons of One-Hot Encoding and Label Encoding**\n",
        "\n",
        "**One-Hot Encoding**\n",
        "\n",
        "**Pros:**\n",
        "\n",
        "No Ordinality: Does not assume any ordinal relationship between categories.\n",
        "Compatibility: Works well with many machine learning algorithms that expect categorical data in a numerical format.\n",
        "Interpretability: Each category is represented explicitly, making the data easier to interpret.\n",
        "\n",
        "**Cons:**\n",
        "\n",
        "High Dimensionality: Can result in a large number of features, especially with high cardinality, which can lead to increased computational cost and potential overfitting.\n",
        "Sparse Data: Creates sparse matrices, which can be inefficient in terms of memory usage.\n",
        "\n",
        "**Label Encoding**\n",
        "\n",
        "**Pros:**\n",
        "\n",
        "Simplicity: Simple and fast to implement.\n",
        "Memory Efficient: Uses less memory compared to One-Hot Encoding, especially with high cardinality.\n",
        "\n",
        "**Cons:**\n",
        "\n",
        "Ordinal Assumption: Introduces an ordinal relationship between categories, which can be misleading for algorithms that interpret numerical values as having inherent order.\n",
        "Less Interpretability: Encoded values may not be as interpretable as one-hot encoded values, especially when categories do not have a natural order.\n"
      ],
      "metadata": {
        "id": "xs4Vj4AqkeHB"
      }
    },
    {
      "cell_type": "code",
      "source": [
        "import pandas as pd\n",
        "\n",
        "# Load the dataset\n",
        "df = pd.read_csv('adult_with_headers.csv')\n",
        "\n",
        "# Create interaction term between education-num and hours-per-week\n",
        "df['education_hours_interaction'] = df['education_num'] * df['hours_per_week']\n",
        "\n",
        "# Create capital gain to loss ratio\n",
        "df['capital_gain_loss_ratio'] = df['capital_gain'] / (df['capital_loss'] + 1)  # Adding 1 to avoid division by zero\n",
        "\n",
        "# Display the first few rows of the dataset to see the new features\n",
        "print(df.head())"
      ],
      "metadata": {
        "colab": {
          "base_uri": "https://localhost:8080/"
        },
        "id": "38G_0hg_oDI3",
        "outputId": "cc1ae6ca-5768-4c89-e43b-7e31452abaac"
      },
      "execution_count": 12,
      "outputs": [
        {
          "output_type": "stream",
          "name": "stdout",
          "text": [
            "   age          workclass  fnlwgt   education  education_num  \\\n",
            "0   39          State-gov   77516   Bachelors             13   \n",
            "1   50   Self-emp-not-inc   83311   Bachelors             13   \n",
            "2   38            Private  215646     HS-grad              9   \n",
            "3   53            Private  234721        11th              7   \n",
            "4   28            Private  338409   Bachelors             13   \n",
            "\n",
            "        marital_status          occupation    relationship    race      sex  \\\n",
            "0        Never-married        Adm-clerical   Not-in-family   White     Male   \n",
            "1   Married-civ-spouse     Exec-managerial         Husband   White     Male   \n",
            "2             Divorced   Handlers-cleaners   Not-in-family   White     Male   \n",
            "3   Married-civ-spouse   Handlers-cleaners         Husband   Black     Male   \n",
            "4   Married-civ-spouse      Prof-specialty            Wife   Black   Female   \n",
            "\n",
            "   capital_gain  capital_loss  hours_per_week  native_country  income  \\\n",
            "0        2174.0           0.0            40.0   United-States   <=50K   \n",
            "1           0.0           0.0            13.0   United-States   <=50K   \n",
            "2           0.0           0.0            40.0   United-States   <=50K   \n",
            "3           0.0           0.0            40.0   United-States   <=50K   \n",
            "4           0.0           0.0            40.0            Cuba   <=50K   \n",
            "\n",
            "   education_hours_interaction  capital_gain_loss_ratio  \n",
            "0                        520.0                   2174.0  \n",
            "1                        169.0                      0.0  \n",
            "2                        360.0                      0.0  \n",
            "3                        280.0                      0.0  \n",
            "4                        520.0                      0.0  \n"
          ]
        }
      ]
    },
    {
      "cell_type": "markdown",
      "source": [
        "**Explanation of New Features**\n",
        "\n",
        "**Education and Hours-Per-Week Interaction:**\n",
        "\n",
        "Rationale: This feature captures the combined effect of education level and working hours, which could be an important predictor of income. Individuals with higher education who work more hours are likely to have higher earnings, while the effect might be different for those with lower education.\n",
        "\n",
        "**Capital Gain to Loss Ratio:**\n",
        "\n",
        "Rationale: This ratio helps to understand the net effect of an individual's investments. It normalizes the gains by the losses, providing a clearer picture of financial health. A higher ratio indicates a better financial situation, which could be important for predicting income or other economic outcomes.\n",
        "By creating these features, we enrich the dataset with more meaningful information that can help machine learning models make better predictions.\n",
        "\n",
        "\n",
        "\n",
        "\n",
        "\n",
        "\n"
      ],
      "metadata": {
        "id": "WuX75ALjouDt"
      }
    },
    {
      "cell_type": "code",
      "source": [
        "# Calculate skewness of numerical features\n",
        "numerical_cols = df.select_dtypes(include=['float64', 'int64']).columns\n",
        "skewness = df[numerical_cols].skew()\n",
        "\n",
        "# Display skewness\n",
        "print(skewness)"
      ],
      "metadata": {
        "colab": {
          "base_uri": "https://localhost:8080/"
        },
        "id": "xSqVy86KqjUU",
        "outputId": "b6504127-b798-481d-ef0b-8de4984d9f77"
      },
      "execution_count": 13,
      "outputs": [
        {
          "output_type": "stream",
          "name": "stdout",
          "text": [
            "age                             0.572101\n",
            "fnlwgt                          1.466295\n",
            "education_num                  -0.304767\n",
            "capital_gain                   12.128971\n",
            "capital_loss                    4.564873\n",
            "hours_per_week                  0.202396\n",
            "education_hours_interaction     0.708895\n",
            "capital_gain_loss_ratio        12.128971\n",
            "dtype: float64\n"
          ]
        }
      ]
    },
    {
      "cell_type": "code",
      "source": [
        "import pandas as pd\n",
        "\n",
        "# Load the dataset\n",
        "df = pd.read_csv('adult_with_headers.csv')\n",
        "\n",
        "# Display the first few rows of the dataset\n",
        "print(df.head())"
      ],
      "metadata": {
        "colab": {
          "base_uri": "https://localhost:8080/"
        },
        "id": "zKiqAGbqNkeQ",
        "outputId": "a91ba552-35ee-47d7-951b-192fa74c9b81"
      },
      "execution_count": 17,
      "outputs": [
        {
          "output_type": "stream",
          "name": "stdout",
          "text": [
            "   age          workclass  fnlwgt   education  education_num  \\\n",
            "0   39          State-gov   77516   Bachelors             13   \n",
            "1   50   Self-emp-not-inc   83311   Bachelors             13   \n",
            "2   38            Private  215646     HS-grad              9   \n",
            "3   53            Private  234721        11th              7   \n",
            "4   28            Private  338409   Bachelors             13   \n",
            "\n",
            "        marital_status          occupation    relationship    race      sex  \\\n",
            "0        Never-married        Adm-clerical   Not-in-family   White     Male   \n",
            "1   Married-civ-spouse     Exec-managerial         Husband   White     Male   \n",
            "2             Divorced   Handlers-cleaners   Not-in-family   White     Male   \n",
            "3   Married-civ-spouse   Handlers-cleaners         Husband   Black     Male   \n",
            "4   Married-civ-spouse      Prof-specialty            Wife   Black   Female   \n",
            "\n",
            "   capital_gain  capital_loss  hours_per_week  native_country  income  \n",
            "0          2174             0              40   United-States   <=50K  \n",
            "1             0             0              13   United-States   <=50K  \n",
            "2             0             0              40   United-States   <=50K  \n",
            "3             0             0              40   United-States   <=50K  \n",
            "4             0             0              40            Cuba   <=50K  \n"
          ]
        }
      ]
    },
    {
      "cell_type": "code",
      "source": [
        "from sklearn.ensemble import IsolationForest\n",
        "\n",
        "# Select numerical features for outlier detection\n",
        "numerical_cols = df.select_dtypes(include=['float64', 'int64']).columns\n",
        "df_numerical = df[numerical_cols]\n",
        "\n",
        "# Initialize the Isolation Forest model\n",
        "iso_forest = IsolationForest(contamination=0.05)  # Assuming 5% of the data is outliers\n",
        "\n",
        "# Fit the model and predict outliers\n",
        "df['outliers'] = iso_forest.fit_predict(df_numerical)\n",
        "\n",
        "# -1 indicates outliers, 1 indicates inliers\n",
        "outliers = df[df['outliers'] == -1]\n",
        "inliers = df[df['outliers'] == 1]\n",
        "\n",
        "print(f\"Number of outliers detected: {len(outliers)}\")\n",
        "print(f\"Number of inliers: {len(inliers)}\")"
      ],
      "metadata": {
        "colab": {
          "base_uri": "https://localhost:8080/"
        },
        "id": "p57ZI_mGrnMj",
        "outputId": "0ebb496b-cfd5-4783-ec6d-b28545b77a2c"
      },
      "execution_count": 18,
      "outputs": [
        {
          "output_type": "stream",
          "name": "stderr",
          "text": [
            "/usr/local/lib/python3.10/dist-packages/sklearn/base.py:439: UserWarning: X does not have valid feature names, but IsolationForest was fitted with feature names\n",
            "  warnings.warn(\n"
          ]
        },
        {
          "output_type": "stream",
          "name": "stdout",
          "text": [
            "Number of outliers detected: 1628\n",
            "Number of inliers: 30933\n"
          ]
        }
      ]
    },
    {
      "cell_type": "code",
      "source": [
        "# Remove outliers\n",
        "df_cleaned = df[df['outliers'] == 1].drop(columns=['outliers'])\n",
        "\n",
        "# Display the first few rows of the cleaned dataset\n",
        "print(df_cleaned.head())"
      ],
      "metadata": {
        "colab": {
          "base_uri": "https://localhost:8080/"
        },
        "id": "3daU_ORFr38e",
        "outputId": "ecbe51c0-8f81-4990-9fe4-7b7c9f11158e"
      },
      "execution_count": 19,
      "outputs": [
        {
          "output_type": "stream",
          "name": "stdout",
          "text": [
            "   age          workclass  fnlwgt   education  education_num  \\\n",
            "0   39          State-gov   77516   Bachelors             13   \n",
            "1   50   Self-emp-not-inc   83311   Bachelors             13   \n",
            "2   38            Private  215646     HS-grad              9   \n",
            "3   53            Private  234721        11th              7   \n",
            "4   28            Private  338409   Bachelors             13   \n",
            "\n",
            "        marital_status          occupation    relationship    race      sex  \\\n",
            "0        Never-married        Adm-clerical   Not-in-family   White     Male   \n",
            "1   Married-civ-spouse     Exec-managerial         Husband   White     Male   \n",
            "2             Divorced   Handlers-cleaners   Not-in-family   White     Male   \n",
            "3   Married-civ-spouse   Handlers-cleaners         Husband   Black     Male   \n",
            "4   Married-civ-spouse      Prof-specialty            Wife   Black   Female   \n",
            "\n",
            "   capital_gain  capital_loss  hours_per_week  native_country  income  \n",
            "0          2174             0              40   United-States   <=50K  \n",
            "1             0             0              13   United-States   <=50K  \n",
            "2             0             0              40   United-States   <=50K  \n",
            "3             0             0              40   United-States   <=50K  \n",
            "4             0             0              40            Cuba   <=50K  \n"
          ]
        }
      ]
    },
    {
      "cell_type": "markdown",
      "source": [
        "By using the Isolation Forest algorithm, we can effectively identify and remove outliers from the dataset. This preprocessing step helps in improving the quality of the data, leading to better model performance, more robust predictions, and reduced computational complexity. Detecting and handling outliers is an essential part of data preprocessing to ensure that the machine learning models trained on the data are accurate and reliable."
      ],
      "metadata": {
        "id": "DJCrt5FHr-rj"
      }
    },
    {
      "cell_type": "code",
      "source": [
        "pip install ppscore"
      ],
      "metadata": {
        "colab": {
          "base_uri": "https://localhost:8080/"
        },
        "id": "yay_lat4tbh_",
        "outputId": "9cbc1ae1-a449-473b-a789-7f58b1b23668"
      },
      "execution_count": 2,
      "outputs": [
        {
          "output_type": "stream",
          "name": "stdout",
          "text": [
            "Requirement already satisfied: ppscore in /usr/local/lib/python3.10/dist-packages (1.3.0)\n",
            "Requirement already satisfied: pandas<2.0.0,>=1.0.0 in /usr/local/lib/python3.10/dist-packages (from ppscore) (1.5.3)\n",
            "Requirement already satisfied: scikit-learn<2.0.0,>=0.20.2 in /usr/local/lib/python3.10/dist-packages (from ppscore) (1.2.2)\n",
            "Requirement already satisfied: python-dateutil>=2.8.1 in /usr/local/lib/python3.10/dist-packages (from pandas<2.0.0,>=1.0.0->ppscore) (2.8.2)\n",
            "Requirement already satisfied: pytz>=2020.1 in /usr/local/lib/python3.10/dist-packages (from pandas<2.0.0,>=1.0.0->ppscore) (2023.4)\n",
            "Requirement already satisfied: numpy>=1.21.0 in /usr/local/lib/python3.10/dist-packages (from pandas<2.0.0,>=1.0.0->ppscore) (1.25.2)\n",
            "Requirement already satisfied: scipy>=1.3.2 in /usr/local/lib/python3.10/dist-packages (from scikit-learn<2.0.0,>=0.20.2->ppscore) (1.11.4)\n",
            "Requirement already satisfied: joblib>=1.1.1 in /usr/local/lib/python3.10/dist-packages (from scikit-learn<2.0.0,>=0.20.2->ppscore) (1.4.2)\n",
            "Requirement already satisfied: threadpoolctl>=2.0.0 in /usr/local/lib/python3.10/dist-packages (from scikit-learn<2.0.0,>=0.20.2->ppscore) (3.5.0)\n",
            "Requirement already satisfied: six>=1.5 in /usr/local/lib/python3.10/dist-packages (from python-dateutil>=2.8.1->pandas<2.0.0,>=1.0.0->ppscore) (1.16.0)\n"
          ]
        }
      ]
    },
    {
      "cell_type": "code",
      "source": [
        "import pandas as pd\n",
        "import numpy as np\n",
        "import ppscore as pps\n",
        "df= pd.read_csv('adult_with_headers.csv')\n",
        "pps_matrix = pps.matrix(df)"
      ],
      "metadata": {
        "id": "C0z_WxBctT6o",
        "colab": {
          "base_uri": "https://localhost:8080/"
        },
        "outputId": "c013a95d-7787-44e9-a773-6e25c68446a3"
      },
      "execution_count": 5,
      "outputs": [
        {
          "output_type": "stream",
          "name": "stderr",
          "text": [
            "/usr/local/lib/python3.10/dist-packages/sklearn/model_selection/_split.py:700: UserWarning: The least populated class in y has only 2 members, which is less than n_splits=4.\n",
            "  warnings.warn(\n",
            "/usr/local/lib/python3.10/dist-packages/sklearn/model_selection/_split.py:700: UserWarning: The least populated class in y has only 2 members, which is less than n_splits=4.\n",
            "  warnings.warn(\n",
            "/usr/local/lib/python3.10/dist-packages/sklearn/model_selection/_split.py:700: UserWarning: The least populated class in y has only 2 members, which is less than n_splits=4.\n",
            "  warnings.warn(\n",
            "/usr/local/lib/python3.10/dist-packages/sklearn/model_selection/_split.py:700: UserWarning: The least populated class in y has only 1 members, which is less than n_splits=4.\n",
            "  warnings.warn(\n",
            "/usr/local/lib/python3.10/dist-packages/sklearn/model_selection/_split.py:700: UserWarning: The least populated class in y has only 2 members, which is less than n_splits=4.\n",
            "  warnings.warn(\n",
            "/usr/local/lib/python3.10/dist-packages/sklearn/model_selection/_split.py:700: UserWarning: The least populated class in y has only 2 members, which is less than n_splits=4.\n",
            "  warnings.warn(\n",
            "/usr/local/lib/python3.10/dist-packages/sklearn/model_selection/_split.py:700: UserWarning: The least populated class in y has only 1 members, which is less than n_splits=4.\n",
            "  warnings.warn(\n",
            "/usr/local/lib/python3.10/dist-packages/sklearn/model_selection/_split.py:700: UserWarning: The least populated class in y has only 2 members, which is less than n_splits=4.\n",
            "  warnings.warn(\n",
            "/usr/local/lib/python3.10/dist-packages/sklearn/model_selection/_split.py:700: UserWarning: The least populated class in y has only 2 members, which is less than n_splits=4.\n",
            "  warnings.warn(\n",
            "/usr/local/lib/python3.10/dist-packages/sklearn/model_selection/_split.py:700: UserWarning: The least populated class in y has only 2 members, which is less than n_splits=4.\n",
            "  warnings.warn(\n",
            "/usr/local/lib/python3.10/dist-packages/sklearn/model_selection/_split.py:700: UserWarning: The least populated class in y has only 1 members, which is less than n_splits=4.\n",
            "  warnings.warn(\n",
            "/usr/local/lib/python3.10/dist-packages/sklearn/model_selection/_split.py:700: UserWarning: The least populated class in y has only 2 members, which is less than n_splits=4.\n",
            "  warnings.warn(\n",
            "/usr/local/lib/python3.10/dist-packages/sklearn/model_selection/_split.py:700: UserWarning: The least populated class in y has only 2 members, which is less than n_splits=4.\n",
            "  warnings.warn(\n",
            "/usr/local/lib/python3.10/dist-packages/sklearn/model_selection/_split.py:700: UserWarning: The least populated class in y has only 2 members, which is less than n_splits=4.\n",
            "  warnings.warn(\n",
            "/usr/local/lib/python3.10/dist-packages/sklearn/model_selection/_split.py:700: UserWarning: The least populated class in y has only 1 members, which is less than n_splits=4.\n",
            "  warnings.warn(\n",
            "/usr/local/lib/python3.10/dist-packages/sklearn/model_selection/_split.py:700: UserWarning: The least populated class in y has only 2 members, which is less than n_splits=4.\n",
            "  warnings.warn(\n",
            "/usr/local/lib/python3.10/dist-packages/sklearn/model_selection/_split.py:700: UserWarning: The least populated class in y has only 2 members, which is less than n_splits=4.\n",
            "  warnings.warn(\n",
            "/usr/local/lib/python3.10/dist-packages/sklearn/model_selection/_split.py:700: UserWarning: The least populated class in y has only 2 members, which is less than n_splits=4.\n",
            "  warnings.warn(\n",
            "/usr/local/lib/python3.10/dist-packages/sklearn/model_selection/_split.py:700: UserWarning: The least populated class in y has only 1 members, which is less than n_splits=4.\n",
            "  warnings.warn(\n",
            "/usr/local/lib/python3.10/dist-packages/sklearn/model_selection/_split.py:700: UserWarning: The least populated class in y has only 2 members, which is less than n_splits=4.\n",
            "  warnings.warn(\n",
            "/usr/local/lib/python3.10/dist-packages/sklearn/model_selection/_split.py:700: UserWarning: The least populated class in y has only 2 members, which is less than n_splits=4.\n",
            "  warnings.warn(\n",
            "/usr/local/lib/python3.10/dist-packages/sklearn/model_selection/_split.py:700: UserWarning: The least populated class in y has only 1 members, which is less than n_splits=4.\n",
            "  warnings.warn(\n",
            "/usr/local/lib/python3.10/dist-packages/sklearn/model_selection/_split.py:700: UserWarning: The least populated class in y has only 2 members, which is less than n_splits=4.\n",
            "  warnings.warn(\n",
            "/usr/local/lib/python3.10/dist-packages/sklearn/model_selection/_split.py:700: UserWarning: The least populated class in y has only 2 members, which is less than n_splits=4.\n",
            "  warnings.warn(\n",
            "/usr/local/lib/python3.10/dist-packages/sklearn/model_selection/_split.py:700: UserWarning: The least populated class in y has only 1 members, which is less than n_splits=4.\n",
            "  warnings.warn(\n",
            "/usr/local/lib/python3.10/dist-packages/sklearn/model_selection/_split.py:700: UserWarning: The least populated class in y has only 2 members, which is less than n_splits=4.\n",
            "  warnings.warn(\n",
            "/usr/local/lib/python3.10/dist-packages/sklearn/model_selection/_split.py:700: UserWarning: The least populated class in y has only 2 members, which is less than n_splits=4.\n",
            "  warnings.warn(\n",
            "/usr/local/lib/python3.10/dist-packages/sklearn/model_selection/_split.py:700: UserWarning: The least populated class in y has only 2 members, which is less than n_splits=4.\n",
            "  warnings.warn(\n",
            "/usr/local/lib/python3.10/dist-packages/sklearn/model_selection/_split.py:700: UserWarning: The least populated class in y has only 1 members, which is less than n_splits=4.\n",
            "  warnings.warn(\n",
            "/usr/local/lib/python3.10/dist-packages/sklearn/model_selection/_split.py:700: UserWarning: The least populated class in y has only 2 members, which is less than n_splits=4.\n",
            "  warnings.warn(\n",
            "/usr/local/lib/python3.10/dist-packages/sklearn/model_selection/_split.py:700: UserWarning: The least populated class in y has only 2 members, which is less than n_splits=4.\n",
            "  warnings.warn(\n",
            "/usr/local/lib/python3.10/dist-packages/sklearn/model_selection/_split.py:700: UserWarning: The least populated class in y has only 2 members, which is less than n_splits=4.\n",
            "  warnings.warn(\n",
            "/usr/local/lib/python3.10/dist-packages/sklearn/model_selection/_split.py:700: UserWarning: The least populated class in y has only 1 members, which is less than n_splits=4.\n",
            "  warnings.warn(\n",
            "/usr/local/lib/python3.10/dist-packages/sklearn/model_selection/_split.py:700: UserWarning: The least populated class in y has only 2 members, which is less than n_splits=4.\n",
            "  warnings.warn(\n",
            "/usr/local/lib/python3.10/dist-packages/sklearn/model_selection/_split.py:700: UserWarning: The least populated class in y has only 2 members, which is less than n_splits=4.\n",
            "  warnings.warn(\n",
            "/usr/local/lib/python3.10/dist-packages/sklearn/model_selection/_split.py:700: UserWarning: The least populated class in y has only 2 members, which is less than n_splits=4.\n",
            "  warnings.warn(\n",
            "/usr/local/lib/python3.10/dist-packages/sklearn/model_selection/_split.py:700: UserWarning: The least populated class in y has only 1 members, which is less than n_splits=4.\n",
            "  warnings.warn(\n",
            "/usr/local/lib/python3.10/dist-packages/sklearn/model_selection/_split.py:700: UserWarning: The least populated class in y has only 2 members, which is less than n_splits=4.\n",
            "  warnings.warn(\n",
            "/usr/local/lib/python3.10/dist-packages/sklearn/model_selection/_split.py:700: UserWarning: The least populated class in y has only 2 members, which is less than n_splits=4.\n",
            "  warnings.warn(\n",
            "/usr/local/lib/python3.10/dist-packages/sklearn/model_selection/_split.py:700: UserWarning: The least populated class in y has only 2 members, which is less than n_splits=4.\n",
            "  warnings.warn(\n",
            "/usr/local/lib/python3.10/dist-packages/sklearn/model_selection/_split.py:700: UserWarning: The least populated class in y has only 1 members, which is less than n_splits=4.\n",
            "  warnings.warn(\n",
            "/usr/local/lib/python3.10/dist-packages/sklearn/model_selection/_split.py:700: UserWarning: The least populated class in y has only 2 members, which is less than n_splits=4.\n",
            "  warnings.warn(\n",
            "/usr/local/lib/python3.10/dist-packages/sklearn/model_selection/_split.py:700: UserWarning: The least populated class in y has only 2 members, which is less than n_splits=4.\n",
            "  warnings.warn(\n",
            "/usr/local/lib/python3.10/dist-packages/sklearn/model_selection/_split.py:700: UserWarning: The least populated class in y has only 2 members, which is less than n_splits=4.\n",
            "  warnings.warn(\n",
            "/usr/local/lib/python3.10/dist-packages/sklearn/model_selection/_split.py:700: UserWarning: The least populated class in y has only 1 members, which is less than n_splits=4.\n",
            "  warnings.warn(\n",
            "/usr/local/lib/python3.10/dist-packages/sklearn/model_selection/_split.py:700: UserWarning: The least populated class in y has only 2 members, which is less than n_splits=4.\n",
            "  warnings.warn(\n",
            "/usr/local/lib/python3.10/dist-packages/sklearn/model_selection/_split.py:700: UserWarning: The least populated class in y has only 2 members, which is less than n_splits=4.\n",
            "  warnings.warn(\n",
            "/usr/local/lib/python3.10/dist-packages/sklearn/model_selection/_split.py:700: UserWarning: The least populated class in y has only 2 members, which is less than n_splits=4.\n",
            "  warnings.warn(\n",
            "/usr/local/lib/python3.10/dist-packages/sklearn/model_selection/_split.py:700: UserWarning: The least populated class in y has only 1 members, which is less than n_splits=4.\n",
            "  warnings.warn(\n",
            "/usr/local/lib/python3.10/dist-packages/sklearn/model_selection/_split.py:700: UserWarning: The least populated class in y has only 2 members, which is less than n_splits=4.\n",
            "  warnings.warn(\n",
            "/usr/local/lib/python3.10/dist-packages/sklearn/model_selection/_split.py:700: UserWarning: The least populated class in y has only 2 members, which is less than n_splits=4.\n",
            "  warnings.warn(\n",
            "/usr/local/lib/python3.10/dist-packages/sklearn/model_selection/_split.py:700: UserWarning: The least populated class in y has only 2 members, which is less than n_splits=4.\n",
            "  warnings.warn(\n",
            "/usr/local/lib/python3.10/dist-packages/sklearn/model_selection/_split.py:700: UserWarning: The least populated class in y has only 2 members, which is less than n_splits=4.\n",
            "  warnings.warn(\n",
            "/usr/local/lib/python3.10/dist-packages/sklearn/model_selection/_split.py:700: UserWarning: The least populated class in y has only 2 members, which is less than n_splits=4.\n",
            "  warnings.warn(\n",
            "/usr/local/lib/python3.10/dist-packages/sklearn/model_selection/_split.py:700: UserWarning: The least populated class in y has only 2 members, which is less than n_splits=4.\n",
            "  warnings.warn(\n",
            "/usr/local/lib/python3.10/dist-packages/sklearn/model_selection/_split.py:700: UserWarning: The least populated class in y has only 1 members, which is less than n_splits=4.\n",
            "  warnings.warn(\n"
          ]
        }
      ]
    },
    {
      "cell_type": "code",
      "source": [
        "# Calculate Pearson correlation matrix\n",
        "corr_matrix = df.corr()\n",
        "\n",
        "# For categorical variables, use appropriate correlation measure\n",
        "# Example: Cramer's V\n",
        "from scipy.stats import chi2_contingency\n",
        "def cramers_v(x, y):\n",
        "    confusion_matrix = pd.crosstab(x, y)\n",
        "    chi2 = chi2_contingency(confusion_matrix)[0]\n",
        "    n = confusion_matrix.sum().sum()\n",
        "    phi2 = chi2 / n\n",
        "    r, k = confusion_matrix.shape\n",
        "    phi2corr = max(0, phi2 - ((k-1)*(r-1))/(n-1))\n",
        "    rcorr = r - ((r-1)**2)/(n-1)\n",
        "    kcorr = k - ((k-1)**2)/(n-1)\n",
        "    return np.sqrt(phi2corr / min((kcorr-1), (rcorr-1)))\n",
        "\n",
        "# Example usage:\n",
        "cramers_v_matrix = pd.DataFrame({c1: [cramers_v(df[c1], df[c2]) for c2 in df.columns] for c1 in df.columns}, index=df.columns)"
      ],
      "metadata": {
        "id": "UKko7vEtQTpm"
      },
      "execution_count": null,
      "outputs": []
    },
    {
      "cell_type": "markdown",
      "source": [
        "Strengths of PPS: It captures predictive power which traditional correlation measures may miss, providing insights into feature importance for prediction tasks.\n",
        "Limitations: PPS assumes the relationship between features and the target is monotonic, so it may miss complex relationships or interactions.\n",
        "By applying both PPS and correlation matrices, you can obtain a more nuanced understanding of feature relationships in your dataset, leveraging both linear and non-linear insights for better model building and feature selection.\n",
        "\n",
        "\n",
        "\n",
        "\n",
        "\n"
      ],
      "metadata": {
        "id": "kYvGu8p7SRuw"
      }
    }
  ]
}